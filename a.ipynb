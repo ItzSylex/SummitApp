{
 "cells": [
  {
   "cell_type": "code",
   "execution_count": 1,
   "metadata": {},
   "outputs": [],
   "source": [
    "from app_utils.session import session"
   ]
  },
  {
   "cell_type": "code",
   "execution_count": 29,
   "metadata": {},
   "outputs": [
    {
     "ename": "ValueError",
     "evalue": "Mime type rendering requires nbformat>=4.2.0 but it is not installed",
     "output_type": "error",
     "traceback": [
      "\u001b[1;31m---------------------------------------------------------------------------\u001b[0m",
      "\u001b[1;31mValueError\u001b[0m                                Traceback (most recent call last)",
      "File \u001b[1;32m~\\AppData\\Roaming\\Python\\Python38\\site-packages\\IPython\\core\\formatters.py:922\u001b[0m, in \u001b[0;36mIPythonDisplayFormatter.__call__\u001b[1;34m(self, obj)\u001b[0m\n\u001b[0;32m    920\u001b[0m method \u001b[39m=\u001b[39m get_real_method(obj, \u001b[39mself\u001b[39m\u001b[39m.\u001b[39mprint_method)\n\u001b[0;32m    921\u001b[0m \u001b[39mif\u001b[39;00m method \u001b[39mis\u001b[39;00m \u001b[39mnot\u001b[39;00m \u001b[39mNone\u001b[39;00m:\n\u001b[1;32m--> 922\u001b[0m     method()\n\u001b[0;32m    923\u001b[0m     \u001b[39mreturn\u001b[39;00m \u001b[39mTrue\u001b[39;00m\n",
      "File \u001b[1;32mc:\\Users\\brand\\AppData\\Local\\Programs\\Python\\Python38\\lib\\site-packages\\plotly\\basedatatypes.py:834\u001b[0m, in \u001b[0;36mBaseFigure._ipython_display_\u001b[1;34m(self)\u001b[0m\n\u001b[0;32m    831\u001b[0m \u001b[39mimport\u001b[39;00m \u001b[39mplotly\u001b[39;00m\u001b[39m.\u001b[39;00m\u001b[39mio\u001b[39;00m \u001b[39mas\u001b[39;00m \u001b[39mpio\u001b[39;00m\n\u001b[0;32m    833\u001b[0m \u001b[39mif\u001b[39;00m pio\u001b[39m.\u001b[39mrenderers\u001b[39m.\u001b[39mrender_on_display \u001b[39mand\u001b[39;00m pio\u001b[39m.\u001b[39mrenderers\u001b[39m.\u001b[39mdefault:\n\u001b[1;32m--> 834\u001b[0m     pio\u001b[39m.\u001b[39;49mshow(\u001b[39mself\u001b[39;49m)\n\u001b[0;32m    835\u001b[0m \u001b[39melse\u001b[39;00m:\n\u001b[0;32m    836\u001b[0m     \u001b[39mprint\u001b[39m(\u001b[39mrepr\u001b[39m(\u001b[39mself\u001b[39m))\n",
      "File \u001b[1;32mc:\\Users\\brand\\AppData\\Local\\Programs\\Python\\Python38\\lib\\site-packages\\plotly\\io\\_renderers.py:396\u001b[0m, in \u001b[0;36mshow\u001b[1;34m(fig, renderer, validate, **kwargs)\u001b[0m\n\u001b[0;32m    391\u001b[0m         \u001b[39mraise\u001b[39;00m \u001b[39mValueError\u001b[39;00m(\n\u001b[0;32m    392\u001b[0m             \u001b[39m\"\u001b[39m\u001b[39mMime type rendering requires ipython but it is not installed\u001b[39m\u001b[39m\"\u001b[39m\n\u001b[0;32m    393\u001b[0m         )\n\u001b[0;32m    395\u001b[0m     \u001b[39mif\u001b[39;00m \u001b[39mnot\u001b[39;00m nbformat \u001b[39mor\u001b[39;00m Version(nbformat\u001b[39m.\u001b[39m__version__) \u001b[39m<\u001b[39m Version(\u001b[39m\"\u001b[39m\u001b[39m4.2.0\u001b[39m\u001b[39m\"\u001b[39m):\n\u001b[1;32m--> 396\u001b[0m         \u001b[39mraise\u001b[39;00m \u001b[39mValueError\u001b[39;00m(\n\u001b[0;32m    397\u001b[0m             \u001b[39m\"\u001b[39m\u001b[39mMime type rendering requires nbformat>=4.2.0 but it is not installed\u001b[39m\u001b[39m\"\u001b[39m\n\u001b[0;32m    398\u001b[0m         )\n\u001b[0;32m    400\u001b[0m     ipython_display\u001b[39m.\u001b[39mdisplay(bundle, raw\u001b[39m=\u001b[39m\u001b[39mTrue\u001b[39;00m)\n\u001b[0;32m    402\u001b[0m \u001b[39m# external renderers\u001b[39;00m\n",
      "\u001b[1;31mValueError\u001b[0m: Mime type rendering requires nbformat>=4.2.0 but it is not installed"
     ]
    },
    {
     "data": {
      "application/vnd.plotly.v1+json": {
       "config": {
        "plotlyServerURL": "https://plot.ly"
       },
       "data": [
        {
         "hovertemplate": "TOTAL_CRIMES=%{marker.color}<br>LATITUDE=%{lat}<br>LONGITUDE=%{lon}<extra></extra>",
         "lat": [
          10.163979,
          9.9359564,
          10.2182301,
          10.6916272,
          10.2357596,
          8.8913368,
          10.5008914,
          10.6203924,
          9.3392039,
          9.9560222,
          9.7750689,
          10.1515146,
          10.4853128,
          10.032,
          9.8114083,
          10.1289028,
          9.7889852,
          8.5380105,
          9.7294954,
          10.2024994,
          9.9184253,
          9.9167075,
          10.8684512,
          9.9135636,
          9.412973,
          9.9605539,
          9.940046,
          9.6944066,
          9.9794864,
          10.01,
          9.7483631,
          10.0819939,
          9.5471005,
          9.863,
          10.0763757,
          10.0087693,
          10.8591282,
          9.8724731,
          10.102409,
          9.9972861,
          10.1060104,
          10.0058345,
          9.9574805,
          9.7330278,
          10.1626074,
          9.9752817,
          9.97,
          10.0324,
          9.8926261,
          9.9163367,
          9.7474683,
          9.7415933,
          10.4819401,
          10.04167,
          10.0759249,
          8.8889753,
          10.515659,
          10.0465715,
          9.9958661,
          8.4253364,
          10.0298852,
          10.7031011,
          9.5847517,
          9.8890038,
          9.7809951,
          10.1052938,
          9.7310041,
          11.0088867,
          9.0824408,
          9.9917559,
          10.4457066,
          10.0927177,
          9.819549,
          9.9014254,
          10.407618,
          10.249165,
          10.4896428,
          10.2188363,
          10.1469106,
          9.99,
          10.39,
          10.0099048,
          9.4186631,
          9.9880112,
          9.7072525,
          9.9432302,
          9.5830753,
          9.93,
          10.503172,
          9.9854406
         ],
         "legendgroup": "",
         "lon": [
          -84.2645463,
          -84.1134162,
          -84.5992384,
          -85.4956835,
          -85.6407774,
          -83.5286361,
          -83.6446083,
          -84.512,
          -83.7152394,
          -83.984858,
          -83.2014154,
          -83.4957515,
          -83.9362,
          -84.82,
          -84.0289552,
          -84.0419806,
          -83.9261136,
          -82.9457347,
          -83.7706033,
          -83.6223033,
          -84.1957531,
          -84.1532395,
          -85.1637293,
          -83.9944093,
          -84.0467398,
          -84.560288,
          -84.0110652,
          -84.062347,
          -84.4049451,
          -84.21,
          -84.1423846,
          -84.1473773,
          -84.3464358,
          -84.82,
          -84.115545,
          -84.0215787,
          -84.673707,
          -84.2801252,
          -85.4430903,
          -83.8769838,
          -84.2475285,
          -84.1538838,
          -84.0810853,
          -84.3726231,
          -84.2926371,
          -85.4095116,
          -83.06,
          -84.82,
          -84.5757166,
          -84.0282798,
          -84.4975157,
          -84.2366847,
          -85.5973075,
          -84.075,
          -83.948042,
          -82.9092434,
          -85.2477995,
          -84.4372672,
          -84.646745,
          -83.2679155,
          -84.0431476,
          -84.8297361,
          -83.8736707,
          -84.1151684,
          -83.5686741,
          -84.3885279,
          -83.9083096,
          -85.6045426,
          -83.2617871,
          -84.0936586,
          -85.0991768,
          -84.2961924,
          -83.6993734,
          -85.3036154,
          -84.2134503,
          -85.0268119,
          -84.9065083,
          -84.4163283,
          -84.733311,
          -84.11,
          -85.48,
          -83.3096247,
          -83.0200471,
          -84.0685928,
          -84.6147906,
          -83.8009515,
          -84.064823,
          -84.04,
          -82.441304,
          -84.1768586
         ],
         "marker": {
          "color": [
           8202,
           25170,
           2423,
           3271,
           2593,
           1862,
           4101,
           4320,
           3555,
           3292,
           3010,
           2811,
           1677,
           4167,
           4132,
           5322,
           4180,
           1620,
           966,
           1426,
           1155,
           1348,
           1275,
           1907,
           1816,
           132,
           3081,
           187,
           557,
           58,
           886,
           713,
           892,
           66,
           834,
           1274,
           897,
           431,
           1907,
           604,
           445,
           459,
           1677,
           613,
           221,
           96,
           21,
           3,
           936,
           2046,
           140,
           152,
           974,
           1126,
           1015,
           1021,
           501,
           604,
           922,
           1596,
           382,
           297,
           119,
           1443,
           2180,
           563,
           742,
           511,
           936,
           596,
           972,
           1146,
           341,
           116,
           205,
           379,
           356,
           101,
           208,
           51,
           4,
           1910,
           1551,
           901,
           2430,
           180,
           226,
           200,
           5,
           645
          ],
          "coloraxis": "coloraxis",
          "size": [
           8202,
           25170,
           2423,
           3271,
           2593,
           1862,
           4101,
           4320,
           3555,
           3292,
           3010,
           2811,
           1677,
           4167,
           4132,
           5322,
           4180,
           1620,
           966,
           1426,
           1155,
           1348,
           1275,
           1907,
           1816,
           132,
           3081,
           187,
           557,
           58,
           886,
           713,
           892,
           66,
           834,
           1274,
           897,
           431,
           1907,
           604,
           445,
           459,
           1677,
           613,
           221,
           96,
           21,
           3,
           936,
           2046,
           140,
           152,
           974,
           1126,
           1015,
           1021,
           501,
           604,
           922,
           1596,
           382,
           297,
           119,
           1443,
           2180,
           563,
           742,
           511,
           936,
           596,
           972,
           1146,
           341,
           116,
           205,
           379,
           356,
           101,
           208,
           51,
           4,
           1910,
           1551,
           901,
           2430,
           180,
           226,
           200,
           5,
           645
          ],
          "sizemode": "area",
          "sizeref": 62.925
         },
         "mode": "markers",
         "name": "",
         "showlegend": false,
         "subplot": "mapbox",
         "type": "scattermapbox"
        }
       ],
       "layout": {
        "coloraxis": {
         "colorbar": {
          "title": {
           "text": "TOTAL_CRIMES"
          }
         },
         "colorscale": [
          [
           0,
           "rgb(255,245,235)"
          ],
          [
           0.125,
           "rgb(254,230,206)"
          ],
          [
           0.25,
           "rgb(253,208,162)"
          ],
          [
           0.375,
           "rgb(253,174,107)"
          ],
          [
           0.5,
           "rgb(253,141,60)"
          ],
          [
           0.625,
           "rgb(241,105,19)"
          ],
          [
           0.75,
           "rgb(217,72,1)"
          ],
          [
           0.875,
           "rgb(166,54,3)"
          ],
          [
           1,
           "rgb(127,39,4)"
          ]
         ]
        },
        "legend": {
         "itemsizing": "constant",
         "tracegroupgap": 0
        },
        "mapbox": {
         "center": {
          "lat": 9.975646206666665,
          "lon": -84.22635082555556
         },
         "domain": {
          "x": [
           0,
           1
          ],
          "y": [
           0,
           1
          ]
         },
         "style": "carto-positron",
         "zoom": 6
        },
        "margin": {
         "t": 60
        },
        "template": {
         "data": {
          "bar": [
           {
            "error_x": {
             "color": "#2a3f5f"
            },
            "error_y": {
             "color": "#2a3f5f"
            },
            "marker": {
             "line": {
              "color": "#E5ECF6",
              "width": 0.5
             },
             "pattern": {
              "fillmode": "overlay",
              "size": 10,
              "solidity": 0.2
             }
            },
            "type": "bar"
           }
          ],
          "barpolar": [
           {
            "marker": {
             "line": {
              "color": "#E5ECF6",
              "width": 0.5
             },
             "pattern": {
              "fillmode": "overlay",
              "size": 10,
              "solidity": 0.2
             }
            },
            "type": "barpolar"
           }
          ],
          "carpet": [
           {
            "aaxis": {
             "endlinecolor": "#2a3f5f",
             "gridcolor": "white",
             "linecolor": "white",
             "minorgridcolor": "white",
             "startlinecolor": "#2a3f5f"
            },
            "baxis": {
             "endlinecolor": "#2a3f5f",
             "gridcolor": "white",
             "linecolor": "white",
             "minorgridcolor": "white",
             "startlinecolor": "#2a3f5f"
            },
            "type": "carpet"
           }
          ],
          "choropleth": [
           {
            "colorbar": {
             "outlinewidth": 0,
             "ticks": ""
            },
            "type": "choropleth"
           }
          ],
          "contour": [
           {
            "colorbar": {
             "outlinewidth": 0,
             "ticks": ""
            },
            "colorscale": [
             [
              0,
              "#0d0887"
             ],
             [
              0.1111111111111111,
              "#46039f"
             ],
             [
              0.2222222222222222,
              "#7201a8"
             ],
             [
              0.3333333333333333,
              "#9c179e"
             ],
             [
              0.4444444444444444,
              "#bd3786"
             ],
             [
              0.5555555555555556,
              "#d8576b"
             ],
             [
              0.6666666666666666,
              "#ed7953"
             ],
             [
              0.7777777777777778,
              "#fb9f3a"
             ],
             [
              0.8888888888888888,
              "#fdca26"
             ],
             [
              1,
              "#f0f921"
             ]
            ],
            "type": "contour"
           }
          ],
          "contourcarpet": [
           {
            "colorbar": {
             "outlinewidth": 0,
             "ticks": ""
            },
            "type": "contourcarpet"
           }
          ],
          "heatmap": [
           {
            "colorbar": {
             "outlinewidth": 0,
             "ticks": ""
            },
            "colorscale": [
             [
              0,
              "#0d0887"
             ],
             [
              0.1111111111111111,
              "#46039f"
             ],
             [
              0.2222222222222222,
              "#7201a8"
             ],
             [
              0.3333333333333333,
              "#9c179e"
             ],
             [
              0.4444444444444444,
              "#bd3786"
             ],
             [
              0.5555555555555556,
              "#d8576b"
             ],
             [
              0.6666666666666666,
              "#ed7953"
             ],
             [
              0.7777777777777778,
              "#fb9f3a"
             ],
             [
              0.8888888888888888,
              "#fdca26"
             ],
             [
              1,
              "#f0f921"
             ]
            ],
            "type": "heatmap"
           }
          ],
          "heatmapgl": [
           {
            "colorbar": {
             "outlinewidth": 0,
             "ticks": ""
            },
            "colorscale": [
             [
              0,
              "#0d0887"
             ],
             [
              0.1111111111111111,
              "#46039f"
             ],
             [
              0.2222222222222222,
              "#7201a8"
             ],
             [
              0.3333333333333333,
              "#9c179e"
             ],
             [
              0.4444444444444444,
              "#bd3786"
             ],
             [
              0.5555555555555556,
              "#d8576b"
             ],
             [
              0.6666666666666666,
              "#ed7953"
             ],
             [
              0.7777777777777778,
              "#fb9f3a"
             ],
             [
              0.8888888888888888,
              "#fdca26"
             ],
             [
              1,
              "#f0f921"
             ]
            ],
            "type": "heatmapgl"
           }
          ],
          "histogram": [
           {
            "marker": {
             "pattern": {
              "fillmode": "overlay",
              "size": 10,
              "solidity": 0.2
             }
            },
            "type": "histogram"
           }
          ],
          "histogram2d": [
           {
            "colorbar": {
             "outlinewidth": 0,
             "ticks": ""
            },
            "colorscale": [
             [
              0,
              "#0d0887"
             ],
             [
              0.1111111111111111,
              "#46039f"
             ],
             [
              0.2222222222222222,
              "#7201a8"
             ],
             [
              0.3333333333333333,
              "#9c179e"
             ],
             [
              0.4444444444444444,
              "#bd3786"
             ],
             [
              0.5555555555555556,
              "#d8576b"
             ],
             [
              0.6666666666666666,
              "#ed7953"
             ],
             [
              0.7777777777777778,
              "#fb9f3a"
             ],
             [
              0.8888888888888888,
              "#fdca26"
             ],
             [
              1,
              "#f0f921"
             ]
            ],
            "type": "histogram2d"
           }
          ],
          "histogram2dcontour": [
           {
            "colorbar": {
             "outlinewidth": 0,
             "ticks": ""
            },
            "colorscale": [
             [
              0,
              "#0d0887"
             ],
             [
              0.1111111111111111,
              "#46039f"
             ],
             [
              0.2222222222222222,
              "#7201a8"
             ],
             [
              0.3333333333333333,
              "#9c179e"
             ],
             [
              0.4444444444444444,
              "#bd3786"
             ],
             [
              0.5555555555555556,
              "#d8576b"
             ],
             [
              0.6666666666666666,
              "#ed7953"
             ],
             [
              0.7777777777777778,
              "#fb9f3a"
             ],
             [
              0.8888888888888888,
              "#fdca26"
             ],
             [
              1,
              "#f0f921"
             ]
            ],
            "type": "histogram2dcontour"
           }
          ],
          "mesh3d": [
           {
            "colorbar": {
             "outlinewidth": 0,
             "ticks": ""
            },
            "type": "mesh3d"
           }
          ],
          "parcoords": [
           {
            "line": {
             "colorbar": {
              "outlinewidth": 0,
              "ticks": ""
             }
            },
            "type": "parcoords"
           }
          ],
          "pie": [
           {
            "automargin": true,
            "type": "pie"
           }
          ],
          "scatter": [
           {
            "fillpattern": {
             "fillmode": "overlay",
             "size": 10,
             "solidity": 0.2
            },
            "type": "scatter"
           }
          ],
          "scatter3d": [
           {
            "line": {
             "colorbar": {
              "outlinewidth": 0,
              "ticks": ""
             }
            },
            "marker": {
             "colorbar": {
              "outlinewidth": 0,
              "ticks": ""
             }
            },
            "type": "scatter3d"
           }
          ],
          "scattercarpet": [
           {
            "marker": {
             "colorbar": {
              "outlinewidth": 0,
              "ticks": ""
             }
            },
            "type": "scattercarpet"
           }
          ],
          "scattergeo": [
           {
            "marker": {
             "colorbar": {
              "outlinewidth": 0,
              "ticks": ""
             }
            },
            "type": "scattergeo"
           }
          ],
          "scattergl": [
           {
            "marker": {
             "colorbar": {
              "outlinewidth": 0,
              "ticks": ""
             }
            },
            "type": "scattergl"
           }
          ],
          "scattermapbox": [
           {
            "marker": {
             "colorbar": {
              "outlinewidth": 0,
              "ticks": ""
             }
            },
            "type": "scattermapbox"
           }
          ],
          "scatterpolar": [
           {
            "marker": {
             "colorbar": {
              "outlinewidth": 0,
              "ticks": ""
             }
            },
            "type": "scatterpolar"
           }
          ],
          "scatterpolargl": [
           {
            "marker": {
             "colorbar": {
              "outlinewidth": 0,
              "ticks": ""
             }
            },
            "type": "scatterpolargl"
           }
          ],
          "scatterternary": [
           {
            "marker": {
             "colorbar": {
              "outlinewidth": 0,
              "ticks": ""
             }
            },
            "type": "scatterternary"
           }
          ],
          "surface": [
           {
            "colorbar": {
             "outlinewidth": 0,
             "ticks": ""
            },
            "colorscale": [
             [
              0,
              "#0d0887"
             ],
             [
              0.1111111111111111,
              "#46039f"
             ],
             [
              0.2222222222222222,
              "#7201a8"
             ],
             [
              0.3333333333333333,
              "#9c179e"
             ],
             [
              0.4444444444444444,
              "#bd3786"
             ],
             [
              0.5555555555555556,
              "#d8576b"
             ],
             [
              0.6666666666666666,
              "#ed7953"
             ],
             [
              0.7777777777777778,
              "#fb9f3a"
             ],
             [
              0.8888888888888888,
              "#fdca26"
             ],
             [
              1,
              "#f0f921"
             ]
            ],
            "type": "surface"
           }
          ],
          "table": [
           {
            "cells": {
             "fill": {
              "color": "#EBF0F8"
             },
             "line": {
              "color": "white"
             }
            },
            "header": {
             "fill": {
              "color": "#C8D4E3"
             },
             "line": {
              "color": "white"
             }
            },
            "type": "table"
           }
          ]
         },
         "layout": {
          "annotationdefaults": {
           "arrowcolor": "#2a3f5f",
           "arrowhead": 0,
           "arrowwidth": 1
          },
          "autotypenumbers": "strict",
          "coloraxis": {
           "colorbar": {
            "outlinewidth": 0,
            "ticks": ""
           }
          },
          "colorscale": {
           "diverging": [
            [
             0,
             "#8e0152"
            ],
            [
             0.1,
             "#c51b7d"
            ],
            [
             0.2,
             "#de77ae"
            ],
            [
             0.3,
             "#f1b6da"
            ],
            [
             0.4,
             "#fde0ef"
            ],
            [
             0.5,
             "#f7f7f7"
            ],
            [
             0.6,
             "#e6f5d0"
            ],
            [
             0.7,
             "#b8e186"
            ],
            [
             0.8,
             "#7fbc41"
            ],
            [
             0.9,
             "#4d9221"
            ],
            [
             1,
             "#276419"
            ]
           ],
           "sequential": [
            [
             0,
             "#0d0887"
            ],
            [
             0.1111111111111111,
             "#46039f"
            ],
            [
             0.2222222222222222,
             "#7201a8"
            ],
            [
             0.3333333333333333,
             "#9c179e"
            ],
            [
             0.4444444444444444,
             "#bd3786"
            ],
            [
             0.5555555555555556,
             "#d8576b"
            ],
            [
             0.6666666666666666,
             "#ed7953"
            ],
            [
             0.7777777777777778,
             "#fb9f3a"
            ],
            [
             0.8888888888888888,
             "#fdca26"
            ],
            [
             1,
             "#f0f921"
            ]
           ],
           "sequentialminus": [
            [
             0,
             "#0d0887"
            ],
            [
             0.1111111111111111,
             "#46039f"
            ],
            [
             0.2222222222222222,
             "#7201a8"
            ],
            [
             0.3333333333333333,
             "#9c179e"
            ],
            [
             0.4444444444444444,
             "#bd3786"
            ],
            [
             0.5555555555555556,
             "#d8576b"
            ],
            [
             0.6666666666666666,
             "#ed7953"
            ],
            [
             0.7777777777777778,
             "#fb9f3a"
            ],
            [
             0.8888888888888888,
             "#fdca26"
            ],
            [
             1,
             "#f0f921"
            ]
           ]
          },
          "colorway": [
           "#636efa",
           "#EF553B",
           "#00cc96",
           "#ab63fa",
           "#FFA15A",
           "#19d3f3",
           "#FF6692",
           "#B6E880",
           "#FF97FF",
           "#FECB52"
          ],
          "font": {
           "color": "#2a3f5f"
          },
          "geo": {
           "bgcolor": "white",
           "lakecolor": "white",
           "landcolor": "#E5ECF6",
           "showlakes": true,
           "showland": true,
           "subunitcolor": "white"
          },
          "hoverlabel": {
           "align": "left"
          },
          "hovermode": "closest",
          "mapbox": {
           "style": "light"
          },
          "paper_bgcolor": "white",
          "plot_bgcolor": "#E5ECF6",
          "polar": {
           "angularaxis": {
            "gridcolor": "white",
            "linecolor": "white",
            "ticks": ""
           },
           "bgcolor": "#E5ECF6",
           "radialaxis": {
            "gridcolor": "white",
            "linecolor": "white",
            "ticks": ""
           }
          },
          "scene": {
           "xaxis": {
            "backgroundcolor": "#E5ECF6",
            "gridcolor": "white",
            "gridwidth": 2,
            "linecolor": "white",
            "showbackground": true,
            "ticks": "",
            "zerolinecolor": "white"
           },
           "yaxis": {
            "backgroundcolor": "#E5ECF6",
            "gridcolor": "white",
            "gridwidth": 2,
            "linecolor": "white",
            "showbackground": true,
            "ticks": "",
            "zerolinecolor": "white"
           },
           "zaxis": {
            "backgroundcolor": "#E5ECF6",
            "gridcolor": "white",
            "gridwidth": 2,
            "linecolor": "white",
            "showbackground": true,
            "ticks": "",
            "zerolinecolor": "white"
           }
          },
          "shapedefaults": {
           "line": {
            "color": "#2a3f5f"
           }
          },
          "ternary": {
           "aaxis": {
            "gridcolor": "white",
            "linecolor": "white",
            "ticks": ""
           },
           "baxis": {
            "gridcolor": "white",
            "linecolor": "white",
            "ticks": ""
           },
           "bgcolor": "#E5ECF6",
           "caxis": {
            "gridcolor": "white",
            "linecolor": "white",
            "ticks": ""
           }
          },
          "title": {
           "x": 0.05
          },
          "xaxis": {
           "automargin": true,
           "gridcolor": "white",
           "linecolor": "white",
           "ticks": "",
           "title": {
            "standoff": 15
           },
           "zerolinecolor": "white",
           "zerolinewidth": 2
          },
          "yaxis": {
           "automargin": true,
           "gridcolor": "white",
           "linecolor": "white",
           "ticks": "",
           "title": {
            "standoff": 15
           },
           "zerolinecolor": "white",
           "zerolinewidth": 2
          }
         }
        }
       }
      },
      "text/html": [
       "<div>                        <script type=\"text/javascript\">window.PlotlyConfig = {MathJaxConfig: 'local'};</script>\n",
       "        <script charset=\"utf-8\" src=\"https://cdn.plot.ly/plotly-2.20.0.min.js\"></script>                <div id=\"067589a6-02d6-40e3-9bf8-c1336e92f753\" class=\"plotly-graph-div\" style=\"height:100%; width:100%;\"></div>            <script type=\"text/javascript\">                                    window.PLOTLYENV=window.PLOTLYENV || {};                                    if (document.getElementById(\"067589a6-02d6-40e3-9bf8-c1336e92f753\")) {                    Plotly.newPlot(                        \"067589a6-02d6-40e3-9bf8-c1336e92f753\",                        [{\"hovertemplate\":\"TOTAL_CRIMES=%{marker.color}<br>LATITUDE=%{lat}<br>LONGITUDE=%{lon}<extra></extra>\",\"lat\":[10.163979,9.9359564,10.2182301,10.6916272,10.2357596,8.8913368,10.5008914,10.6203924,9.3392039,9.9560222,9.7750689,10.1515146,10.4853128,10.032,9.8114083,10.1289028,9.7889852,8.5380105,9.7294954,10.2024994,9.9184253,9.9167075,10.8684512,9.9135636,9.412973,9.9605539,9.940046,9.6944066,9.9794864,10.01,9.7483631,10.0819939,9.5471005,9.863,10.0763757,10.0087693,10.8591282,9.8724731,10.102409,9.9972861,10.1060104,10.0058345,9.9574805,9.7330278,10.1626074,9.9752817,9.97,10.0324,9.8926261,9.9163367,9.7474683,9.7415933,10.4819401,10.04167,10.0759249,8.8889753,10.515659,10.0465715,9.9958661,8.4253364,10.0298852,10.7031011,9.5847517,9.8890038,9.7809951,10.1052938,9.7310041,11.0088867,9.0824408,9.9917559,10.4457066,10.0927177,9.819549,9.9014254,10.407618,10.249165,10.4896428,10.2188363,10.1469106,9.99,10.39,10.0099048,9.4186631,9.9880112,9.7072525,9.9432302,9.5830753,9.93,10.503172,9.9854406],\"legendgroup\":\"\",\"lon\":[-84.2645463,-84.1134162,-84.5992384,-85.4956835,-85.6407774,-83.5286361,-83.6446083,-84.512,-83.7152394,-83.984858,-83.2014154,-83.4957515,-83.9362,-84.82,-84.0289552,-84.0419806,-83.9261136,-82.9457347,-83.7706033,-83.6223033,-84.1957531,-84.1532395,-85.1637293,-83.9944093,-84.0467398,-84.560288,-84.0110652,-84.062347,-84.4049451,-84.21,-84.1423846,-84.1473773,-84.3464358,-84.82,-84.115545,-84.0215787,-84.673707,-84.2801252,-85.4430903,-83.8769838,-84.2475285,-84.1538838,-84.0810853,-84.3726231,-84.2926371,-85.4095116,-83.06,-84.82,-84.5757166,-84.0282798,-84.4975157,-84.2366847,-85.5973075,-84.075,-83.948042,-82.9092434,-85.2477995,-84.4372672,-84.646745,-83.2679155,-84.0431476,-84.8297361,-83.8736707,-84.1151684,-83.5686741,-84.3885279,-83.9083096,-85.6045426,-83.2617871,-84.0936586,-85.0991768,-84.2961924,-83.6993734,-85.3036154,-84.2134503,-85.0268119,-84.9065083,-84.4163283,-84.733311,-84.11,-85.48,-83.3096247,-83.0200471,-84.0685928,-84.6147906,-83.8009515,-84.064823,-84.04,-82.441304,-84.1768586],\"marker\":{\"color\":[8202,25170,2423,3271,2593,1862,4101,4320,3555,3292,3010,2811,1677,4167,4132,5322,4180,1620,966,1426,1155,1348,1275,1907,1816,132,3081,187,557,58,886,713,892,66,834,1274,897,431,1907,604,445,459,1677,613,221,96,21,3,936,2046,140,152,974,1126,1015,1021,501,604,922,1596,382,297,119,1443,2180,563,742,511,936,596,972,1146,341,116,205,379,356,101,208,51,4,1910,1551,901,2430,180,226,200,5,645],\"coloraxis\":\"coloraxis\",\"size\":[8202,25170,2423,3271,2593,1862,4101,4320,3555,3292,3010,2811,1677,4167,4132,5322,4180,1620,966,1426,1155,1348,1275,1907,1816,132,3081,187,557,58,886,713,892,66,834,1274,897,431,1907,604,445,459,1677,613,221,96,21,3,936,2046,140,152,974,1126,1015,1021,501,604,922,1596,382,297,119,1443,2180,563,742,511,936,596,972,1146,341,116,205,379,356,101,208,51,4,1910,1551,901,2430,180,226,200,5,645],\"sizemode\":\"area\",\"sizeref\":62.925},\"mode\":\"markers\",\"name\":\"\",\"showlegend\":false,\"subplot\":\"mapbox\",\"type\":\"scattermapbox\"}],                        {\"template\":{\"data\":{\"histogram2dcontour\":[{\"type\":\"histogram2dcontour\",\"colorbar\":{\"outlinewidth\":0,\"ticks\":\"\"},\"colorscale\":[[0.0,\"#0d0887\"],[0.1111111111111111,\"#46039f\"],[0.2222222222222222,\"#7201a8\"],[0.3333333333333333,\"#9c179e\"],[0.4444444444444444,\"#bd3786\"],[0.5555555555555556,\"#d8576b\"],[0.6666666666666666,\"#ed7953\"],[0.7777777777777778,\"#fb9f3a\"],[0.8888888888888888,\"#fdca26\"],[1.0,\"#f0f921\"]]}],\"choropleth\":[{\"type\":\"choropleth\",\"colorbar\":{\"outlinewidth\":0,\"ticks\":\"\"}}],\"histogram2d\":[{\"type\":\"histogram2d\",\"colorbar\":{\"outlinewidth\":0,\"ticks\":\"\"},\"colorscale\":[[0.0,\"#0d0887\"],[0.1111111111111111,\"#46039f\"],[0.2222222222222222,\"#7201a8\"],[0.3333333333333333,\"#9c179e\"],[0.4444444444444444,\"#bd3786\"],[0.5555555555555556,\"#d8576b\"],[0.6666666666666666,\"#ed7953\"],[0.7777777777777778,\"#fb9f3a\"],[0.8888888888888888,\"#fdca26\"],[1.0,\"#f0f921\"]]}],\"heatmap\":[{\"type\":\"heatmap\",\"colorbar\":{\"outlinewidth\":0,\"ticks\":\"\"},\"colorscale\":[[0.0,\"#0d0887\"],[0.1111111111111111,\"#46039f\"],[0.2222222222222222,\"#7201a8\"],[0.3333333333333333,\"#9c179e\"],[0.4444444444444444,\"#bd3786\"],[0.5555555555555556,\"#d8576b\"],[0.6666666666666666,\"#ed7953\"],[0.7777777777777778,\"#fb9f3a\"],[0.8888888888888888,\"#fdca26\"],[1.0,\"#f0f921\"]]}],\"heatmapgl\":[{\"type\":\"heatmapgl\",\"colorbar\":{\"outlinewidth\":0,\"ticks\":\"\"},\"colorscale\":[[0.0,\"#0d0887\"],[0.1111111111111111,\"#46039f\"],[0.2222222222222222,\"#7201a8\"],[0.3333333333333333,\"#9c179e\"],[0.4444444444444444,\"#bd3786\"],[0.5555555555555556,\"#d8576b\"],[0.6666666666666666,\"#ed7953\"],[0.7777777777777778,\"#fb9f3a\"],[0.8888888888888888,\"#fdca26\"],[1.0,\"#f0f921\"]]}],\"contourcarpet\":[{\"type\":\"contourcarpet\",\"colorbar\":{\"outlinewidth\":0,\"ticks\":\"\"}}],\"contour\":[{\"type\":\"contour\",\"colorbar\":{\"outlinewidth\":0,\"ticks\":\"\"},\"colorscale\":[[0.0,\"#0d0887\"],[0.1111111111111111,\"#46039f\"],[0.2222222222222222,\"#7201a8\"],[0.3333333333333333,\"#9c179e\"],[0.4444444444444444,\"#bd3786\"],[0.5555555555555556,\"#d8576b\"],[0.6666666666666666,\"#ed7953\"],[0.7777777777777778,\"#fb9f3a\"],[0.8888888888888888,\"#fdca26\"],[1.0,\"#f0f921\"]]}],\"surface\":[{\"type\":\"surface\",\"colorbar\":{\"outlinewidth\":0,\"ticks\":\"\"},\"colorscale\":[[0.0,\"#0d0887\"],[0.1111111111111111,\"#46039f\"],[0.2222222222222222,\"#7201a8\"],[0.3333333333333333,\"#9c179e\"],[0.4444444444444444,\"#bd3786\"],[0.5555555555555556,\"#d8576b\"],[0.6666666666666666,\"#ed7953\"],[0.7777777777777778,\"#fb9f3a\"],[0.8888888888888888,\"#fdca26\"],[1.0,\"#f0f921\"]]}],\"mesh3d\":[{\"type\":\"mesh3d\",\"colorbar\":{\"outlinewidth\":0,\"ticks\":\"\"}}],\"scatter\":[{\"fillpattern\":{\"fillmode\":\"overlay\",\"size\":10,\"solidity\":0.2},\"type\":\"scatter\"}],\"parcoords\":[{\"type\":\"parcoords\",\"line\":{\"colorbar\":{\"outlinewidth\":0,\"ticks\":\"\"}}}],\"scatterpolargl\":[{\"type\":\"scatterpolargl\",\"marker\":{\"colorbar\":{\"outlinewidth\":0,\"ticks\":\"\"}}}],\"bar\":[{\"error_x\":{\"color\":\"#2a3f5f\"},\"error_y\":{\"color\":\"#2a3f5f\"},\"marker\":{\"line\":{\"color\":\"#E5ECF6\",\"width\":0.5},\"pattern\":{\"fillmode\":\"overlay\",\"size\":10,\"solidity\":0.2}},\"type\":\"bar\"}],\"scattergeo\":[{\"type\":\"scattergeo\",\"marker\":{\"colorbar\":{\"outlinewidth\":0,\"ticks\":\"\"}}}],\"scatterpolar\":[{\"type\":\"scatterpolar\",\"marker\":{\"colorbar\":{\"outlinewidth\":0,\"ticks\":\"\"}}}],\"histogram\":[{\"marker\":{\"pattern\":{\"fillmode\":\"overlay\",\"size\":10,\"solidity\":0.2}},\"type\":\"histogram\"}],\"scattergl\":[{\"type\":\"scattergl\",\"marker\":{\"colorbar\":{\"outlinewidth\":0,\"ticks\":\"\"}}}],\"scatter3d\":[{\"type\":\"scatter3d\",\"line\":{\"colorbar\":{\"outlinewidth\":0,\"ticks\":\"\"}},\"marker\":{\"colorbar\":{\"outlinewidth\":0,\"ticks\":\"\"}}}],\"scattermapbox\":[{\"type\":\"scattermapbox\",\"marker\":{\"colorbar\":{\"outlinewidth\":0,\"ticks\":\"\"}}}],\"scatterternary\":[{\"type\":\"scatterternary\",\"marker\":{\"colorbar\":{\"outlinewidth\":0,\"ticks\":\"\"}}}],\"scattercarpet\":[{\"type\":\"scattercarpet\",\"marker\":{\"colorbar\":{\"outlinewidth\":0,\"ticks\":\"\"}}}],\"carpet\":[{\"aaxis\":{\"endlinecolor\":\"#2a3f5f\",\"gridcolor\":\"white\",\"linecolor\":\"white\",\"minorgridcolor\":\"white\",\"startlinecolor\":\"#2a3f5f\"},\"baxis\":{\"endlinecolor\":\"#2a3f5f\",\"gridcolor\":\"white\",\"linecolor\":\"white\",\"minorgridcolor\":\"white\",\"startlinecolor\":\"#2a3f5f\"},\"type\":\"carpet\"}],\"table\":[{\"cells\":{\"fill\":{\"color\":\"#EBF0F8\"},\"line\":{\"color\":\"white\"}},\"header\":{\"fill\":{\"color\":\"#C8D4E3\"},\"line\":{\"color\":\"white\"}},\"type\":\"table\"}],\"barpolar\":[{\"marker\":{\"line\":{\"color\":\"#E5ECF6\",\"width\":0.5},\"pattern\":{\"fillmode\":\"overlay\",\"size\":10,\"solidity\":0.2}},\"type\":\"barpolar\"}],\"pie\":[{\"automargin\":true,\"type\":\"pie\"}]},\"layout\":{\"autotypenumbers\":\"strict\",\"colorway\":[\"#636efa\",\"#EF553B\",\"#00cc96\",\"#ab63fa\",\"#FFA15A\",\"#19d3f3\",\"#FF6692\",\"#B6E880\",\"#FF97FF\",\"#FECB52\"],\"font\":{\"color\":\"#2a3f5f\"},\"hovermode\":\"closest\",\"hoverlabel\":{\"align\":\"left\"},\"paper_bgcolor\":\"white\",\"plot_bgcolor\":\"#E5ECF6\",\"polar\":{\"bgcolor\":\"#E5ECF6\",\"angularaxis\":{\"gridcolor\":\"white\",\"linecolor\":\"white\",\"ticks\":\"\"},\"radialaxis\":{\"gridcolor\":\"white\",\"linecolor\":\"white\",\"ticks\":\"\"}},\"ternary\":{\"bgcolor\":\"#E5ECF6\",\"aaxis\":{\"gridcolor\":\"white\",\"linecolor\":\"white\",\"ticks\":\"\"},\"baxis\":{\"gridcolor\":\"white\",\"linecolor\":\"white\",\"ticks\":\"\"},\"caxis\":{\"gridcolor\":\"white\",\"linecolor\":\"white\",\"ticks\":\"\"}},\"coloraxis\":{\"colorbar\":{\"outlinewidth\":0,\"ticks\":\"\"}},\"colorscale\":{\"sequential\":[[0.0,\"#0d0887\"],[0.1111111111111111,\"#46039f\"],[0.2222222222222222,\"#7201a8\"],[0.3333333333333333,\"#9c179e\"],[0.4444444444444444,\"#bd3786\"],[0.5555555555555556,\"#d8576b\"],[0.6666666666666666,\"#ed7953\"],[0.7777777777777778,\"#fb9f3a\"],[0.8888888888888888,\"#fdca26\"],[1.0,\"#f0f921\"]],\"sequentialminus\":[[0.0,\"#0d0887\"],[0.1111111111111111,\"#46039f\"],[0.2222222222222222,\"#7201a8\"],[0.3333333333333333,\"#9c179e\"],[0.4444444444444444,\"#bd3786\"],[0.5555555555555556,\"#d8576b\"],[0.6666666666666666,\"#ed7953\"],[0.7777777777777778,\"#fb9f3a\"],[0.8888888888888888,\"#fdca26\"],[1.0,\"#f0f921\"]],\"diverging\":[[0,\"#8e0152\"],[0.1,\"#c51b7d\"],[0.2,\"#de77ae\"],[0.3,\"#f1b6da\"],[0.4,\"#fde0ef\"],[0.5,\"#f7f7f7\"],[0.6,\"#e6f5d0\"],[0.7,\"#b8e186\"],[0.8,\"#7fbc41\"],[0.9,\"#4d9221\"],[1,\"#276419\"]]},\"xaxis\":{\"gridcolor\":\"white\",\"linecolor\":\"white\",\"ticks\":\"\",\"title\":{\"standoff\":15},\"zerolinecolor\":\"white\",\"automargin\":true,\"zerolinewidth\":2},\"yaxis\":{\"gridcolor\":\"white\",\"linecolor\":\"white\",\"ticks\":\"\",\"title\":{\"standoff\":15},\"zerolinecolor\":\"white\",\"automargin\":true,\"zerolinewidth\":2},\"scene\":{\"xaxis\":{\"backgroundcolor\":\"#E5ECF6\",\"gridcolor\":\"white\",\"linecolor\":\"white\",\"showbackground\":true,\"ticks\":\"\",\"zerolinecolor\":\"white\",\"gridwidth\":2},\"yaxis\":{\"backgroundcolor\":\"#E5ECF6\",\"gridcolor\":\"white\",\"linecolor\":\"white\",\"showbackground\":true,\"ticks\":\"\",\"zerolinecolor\":\"white\",\"gridwidth\":2},\"zaxis\":{\"backgroundcolor\":\"#E5ECF6\",\"gridcolor\":\"white\",\"linecolor\":\"white\",\"showbackground\":true,\"ticks\":\"\",\"zerolinecolor\":\"white\",\"gridwidth\":2}},\"shapedefaults\":{\"line\":{\"color\":\"#2a3f5f\"}},\"annotationdefaults\":{\"arrowcolor\":\"#2a3f5f\",\"arrowhead\":0,\"arrowwidth\":1},\"geo\":{\"bgcolor\":\"white\",\"landcolor\":\"#E5ECF6\",\"subunitcolor\":\"white\",\"showland\":true,\"showlakes\":true,\"lakecolor\":\"white\"},\"title\":{\"x\":0.05},\"mapbox\":{\"style\":\"light\"}}},\"mapbox\":{\"domain\":{\"x\":[0.0,1.0],\"y\":[0.0,1.0]},\"center\":{\"lat\":9.975646206666665,\"lon\":-84.22635082555556},\"zoom\":6,\"style\":\"carto-positron\"},\"coloraxis\":{\"colorbar\":{\"title\":{\"text\":\"TOTAL_CRIMES\"}},\"colorscale\":[[0.0,\"rgb(255,245,235)\"],[0.125,\"rgb(254,230,206)\"],[0.25,\"rgb(253,208,162)\"],[0.375,\"rgb(253,174,107)\"],[0.5,\"rgb(253,141,60)\"],[0.625,\"rgb(241,105,19)\"],[0.75,\"rgb(217,72,1)\"],[0.875,\"rgb(166,54,3)\"],[1.0,\"rgb(127,39,4)\"]]},\"legend\":{\"tracegroupgap\":0,\"itemsizing\":\"constant\"},\"margin\":{\"t\":60}},                        {\"responsive\": true}                    )                };                            </script>        </div>"
      ],
      "text/plain": [
       "Figure({\n",
       "    'data': [{'hovertemplate': ('TOTAL_CRIMES=%{marker.color}<b' ... 'ONGITUDE=%{lon}<extra></extra>'),\n",
       "              'lat': array([10.163979 ,  9.9359564, 10.2182301, 10.6916272, 10.2357596,  8.8913368,\n",
       "                            10.5008914, 10.6203924,  9.3392039,  9.9560222,  9.7750689, 10.1515146,\n",
       "                            10.4853128, 10.032    ,  9.8114083, 10.1289028,  9.7889852,  8.5380105,\n",
       "                             9.7294954, 10.2024994,  9.9184253,  9.9167075, 10.8684512,  9.9135636,\n",
       "                             9.412973 ,  9.9605539,  9.940046 ,  9.6944066,  9.9794864, 10.01     ,\n",
       "                             9.7483631, 10.0819939,  9.5471005,  9.863    , 10.0763757, 10.0087693,\n",
       "                            10.8591282,  9.8724731, 10.102409 ,  9.9972861, 10.1060104, 10.0058345,\n",
       "                             9.9574805,  9.7330278, 10.1626074,  9.9752817,  9.97     , 10.0324   ,\n",
       "                             9.8926261,  9.9163367,  9.7474683,  9.7415933, 10.4819401, 10.04167  ,\n",
       "                            10.0759249,  8.8889753, 10.515659 , 10.0465715,  9.9958661,  8.4253364,\n",
       "                            10.0298852, 10.7031011,  9.5847517,  9.8890038,  9.7809951, 10.1052938,\n",
       "                             9.7310041, 11.0088867,  9.0824408,  9.9917559, 10.4457066, 10.0927177,\n",
       "                             9.819549 ,  9.9014254, 10.407618 , 10.249165 , 10.4896428, 10.2188363,\n",
       "                            10.1469106,  9.99     , 10.39     , 10.0099048,  9.4186631,  9.9880112,\n",
       "                             9.7072525,  9.9432302,  9.5830753,  9.93     , 10.503172 ,  9.9854406]),\n",
       "              'legendgroup': '',\n",
       "              'lon': array([-84.2645463, -84.1134162, -84.5992384, -85.4956835, -85.6407774,\n",
       "                            -83.5286361, -83.6446083, -84.512    , -83.7152394, -83.984858 ,\n",
       "                            -83.2014154, -83.4957515, -83.9362   , -84.82     , -84.0289552,\n",
       "                            -84.0419806, -83.9261136, -82.9457347, -83.7706033, -83.6223033,\n",
       "                            -84.1957531, -84.1532395, -85.1637293, -83.9944093, -84.0467398,\n",
       "                            -84.560288 , -84.0110652, -84.062347 , -84.4049451, -84.21     ,\n",
       "                            -84.1423846, -84.1473773, -84.3464358, -84.82     , -84.115545 ,\n",
       "                            -84.0215787, -84.673707 , -84.2801252, -85.4430903, -83.8769838,\n",
       "                            -84.2475285, -84.1538838, -84.0810853, -84.3726231, -84.2926371,\n",
       "                            -85.4095116, -83.06     , -84.82     , -84.5757166, -84.0282798,\n",
       "                            -84.4975157, -84.2366847, -85.5973075, -84.075    , -83.948042 ,\n",
       "                            -82.9092434, -85.2477995, -84.4372672, -84.646745 , -83.2679155,\n",
       "                            -84.0431476, -84.8297361, -83.8736707, -84.1151684, -83.5686741,\n",
       "                            -84.3885279, -83.9083096, -85.6045426, -83.2617871, -84.0936586,\n",
       "                            -85.0991768, -84.2961924, -83.6993734, -85.3036154, -84.2134503,\n",
       "                            -85.0268119, -84.9065083, -84.4163283, -84.733311 , -84.11     ,\n",
       "                            -85.48     , -83.3096247, -83.0200471, -84.0685928, -84.6147906,\n",
       "                            -83.8009515, -84.064823 , -84.04     , -82.441304 , -84.1768586]),\n",
       "              'marker': {'color': array([ 8202, 25170,  2423,  3271,  2593,  1862,  4101,  4320,  3555,  3292,\n",
       "                                          3010,  2811,  1677,  4167,  4132,  5322,  4180,  1620,   966,  1426,\n",
       "                                          1155,  1348,  1275,  1907,  1816,   132,  3081,   187,   557,    58,\n",
       "                                           886,   713,   892,    66,   834,  1274,   897,   431,  1907,   604,\n",
       "                                           445,   459,  1677,   613,   221,    96,    21,     3,   936,  2046,\n",
       "                                           140,   152,   974,  1126,  1015,  1021,   501,   604,   922,  1596,\n",
       "                                           382,   297,   119,  1443,  2180,   563,   742,   511,   936,   596,\n",
       "                                           972,  1146,   341,   116,   205,   379,   356,   101,   208,    51,\n",
       "                                             4,  1910,  1551,   901,  2430,   180,   226,   200,     5,   645],\n",
       "                                        dtype=int64),\n",
       "                         'coloraxis': 'coloraxis',\n",
       "                         'size': array([ 8202, 25170,  2423,  3271,  2593,  1862,  4101,  4320,  3555,  3292,\n",
       "                                         3010,  2811,  1677,  4167,  4132,  5322,  4180,  1620,   966,  1426,\n",
       "                                         1155,  1348,  1275,  1907,  1816,   132,  3081,   187,   557,    58,\n",
       "                                          886,   713,   892,    66,   834,  1274,   897,   431,  1907,   604,\n",
       "                                          445,   459,  1677,   613,   221,    96,    21,     3,   936,  2046,\n",
       "                                          140,   152,   974,  1126,  1015,  1021,   501,   604,   922,  1596,\n",
       "                                          382,   297,   119,  1443,  2180,   563,   742,   511,   936,   596,\n",
       "                                          972,  1146,   341,   116,   205,   379,   356,   101,   208,    51,\n",
       "                                            4,  1910,  1551,   901,  2430,   180,   226,   200,     5,   645],\n",
       "                                       dtype=int64),\n",
       "                         'sizemode': 'area',\n",
       "                         'sizeref': 62.925},\n",
       "              'mode': 'markers',\n",
       "              'name': '',\n",
       "              'showlegend': False,\n",
       "              'subplot': 'mapbox',\n",
       "              'type': 'scattermapbox'}],\n",
       "    'layout': {'coloraxis': {'colorbar': {'title': {'text': 'TOTAL_CRIMES'}},\n",
       "                             'colorscale': [[0.0, 'rgb(255,245,235)'], [0.125,\n",
       "                                            'rgb(254,230,206)'], [0.25,\n",
       "                                            'rgb(253,208,162)'], [0.375,\n",
       "                                            'rgb(253,174,107)'], [0.5,\n",
       "                                            'rgb(253,141,60)'], [0.625,\n",
       "                                            'rgb(241,105,19)'], [0.75,\n",
       "                                            'rgb(217,72,1)'], [0.875,\n",
       "                                            'rgb(166,54,3)'], [1.0,\n",
       "                                            'rgb(127,39,4)']]},\n",
       "               'legend': {'itemsizing': 'constant', 'tracegroupgap': 0},\n",
       "               'mapbox': {'center': {'lat': 9.975646206666665, 'lon': -84.22635082555556},\n",
       "                          'domain': {'x': [0.0, 1.0], 'y': [0.0, 1.0]},\n",
       "                          'style': 'carto-positron',\n",
       "                          'zoom': 6},\n",
       "               'margin': {'t': 60},\n",
       "               'template': '...'}\n",
       "})"
      ]
     },
     "execution_count": 29,
     "metadata": {},
     "output_type": "execute_result"
    }
   ],
   "source": [
    "import pandas as pd\n",
    "import plotly.express as px\n",
    "\n",
    "# Read in the data\n",
    "df = session.sql(\"\"\"SELECT\n",
    "    REGIONDIM.LATITUDE,\n",
    "    REGIONDIM.LONGITUDE,\n",
    "    COUNT(*) AS TOTAL_CRIMES\n",
    "FROM\n",
    "    FACTCRIMES\n",
    "    JOIN REGIONDIM ON FACTCRIMES.REGIONID = REGIONDIM.REGIONID\n",
    "GROUP BY\n",
    "    REGIONDIM.LATITUDE,\n",
    "    REGIONDIM.LONGITUDE\"\"\").to_pandas()\n",
    "\n",
    "# Create the map\n",
    "fig = px.scatter_mapbox(df, lat=\"LATITUDE\", lon=\"LONGITUDE\", color=\"TOTAL_CRIMES\", size=\"TOTAL_CRIMES\",\n",
    "                  color_continuous_scale=px.colors.sequential.Oranges, zoom=6,\n",
    "                  mapbox_style=\"carto-positron\")\n",
    "fig"
   ]
  }
 ],
 "metadata": {
  "kernelspec": {
   "display_name": "Python 3",
   "language": "python",
   "name": "python3"
  },
  "language_info": {
   "codemirror_mode": {
    "name": "ipython",
    "version": 3
   },
   "file_extension": ".py",
   "mimetype": "text/x-python",
   "name": "python",
   "nbconvert_exporter": "python",
   "pygments_lexer": "ipython3",
   "version": "3.8.0"
  },
  "orig_nbformat": 4
 },
 "nbformat": 4,
 "nbformat_minor": 2
}
